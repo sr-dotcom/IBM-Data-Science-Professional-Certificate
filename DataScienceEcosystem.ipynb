{
 "cells": [
  {
   "cell_type": "markdown",
   "id": "daca029a",
   "metadata": {},
   "source": [
    "# Data Science Tools and Ecosystem"
   ]
  },
  {
   "cell_type": "markdown",
   "id": "9455c5d6",
   "metadata": {},
   "source": [
    "In this notebook, Data Science Tools and Ecosystem are summarized."
   ]
  },
  {
   "cell_type": "markdown",
   "id": "26f8eca4",
   "metadata": {},
   "source": [
    "Some of the popular languages that Data Scientists use are:\n",
    "\n",
    "1. Python\n",
    "2. R\n",
    "3. Julia\n",
    "4. SQL\n",
    "5. Scala (with Spark)\n",
    "6. MATLAB\n",
    "7. Java (for certain applications)\n",
    "8. SAS"
   ]
  },
  {
   "cell_type": "markdown",
   "id": "9c1aba82",
   "metadata": {},
   "source": [
    "Some of the commonly used libraries used by Data Scientists include:\n",
    "\n",
    "1. TensorFlow\n",
    "2. NumPy\n",
    "3. SciPy\n",
    "4. Pandas\n",
    "5. Matplotlib\n",
    "6. Keras\n",
    "7. Scikit-Learn\n",
    "8. PyTorch\n",
    "9. Theano\n",
    "10. Seaborn"
   ]
  },
  {
   "cell_type": "markdown",
   "id": "5d7524c8",
   "metadata": {},
   "source": [
    "| Data Science Tools   |\n",
    "|----------------------|\n",
    "| Jupyter Notebook     |\n",
    "| RStudio              |\n",
    "| VS Code with extensions |\n"
   ]
  },
  {
   "cell_type": "markdown",
   "id": "70200345",
   "metadata": {},
   "source": [
    "### Below are a few examples of evaluating arithmetic expressions in Python.\n",
    "\n",
    "1. Addition: `5 + 3` equals 8.\n",
    "\n",
    "2. Subtraction: `10 - 4` equals 6.\n",
    "\n",
    "3. Multiplication: `6 * 7` equals 42.\n",
    "\n",
    "4. Division: `15 / 3` equals 5.0 (floating-point division).\n",
    "\n",
    "5. Integer Division: `15 // 3` equals 5 (integer division).\n",
    "\n",
    "6. Exponentiation: `2 ** 4` equals 16.\n",
    "\n",
    "7. Modulus (Remainder): `10 % 3` equals 1.\n",
    "\n",
    "8. Combined Expressions: `2 + 3 * 4` equals 14 (multiplication is performed before addition).\n",
    "\n",
    "9. Parentheses for Priority: `(2 + 3) * 4` equals 20 (addition is performed before multiplication due to parentheses)."
   ]
  },
  {
   "cell_type": "code",
   "execution_count": 5,
   "id": "dd31e75a",
   "metadata": {},
   "outputs": [
    {
     "name": "stdout",
     "output_type": "stream",
     "text": [
      "17\n"
     ]
    }
   ],
   "source": [
    "# This is a simple arithmetic expression to multiply then add integers.\n",
    "result = (3 * 4) + 5\n",
    "print(result)"
   ]
  },
  {
   "cell_type": "code",
   "execution_count": 6,
   "id": "88f48559",
   "metadata": {},
   "outputs": [
    {
     "name": "stdout",
     "output_type": "stream",
     "text": [
      "3.3333333333333335\n"
     ]
    }
   ],
   "source": [
    "# This will convert 200 minutes to hours by dividing by 60.\n",
    "minutes = 200\n",
    "hours = minutes / 60\n",
    "print(hours)\n"
   ]
  },
  {
   "cell_type": "markdown",
   "id": "e161b4e6",
   "metadata": {},
   "source": [
    "**Objectives:**\n",
    "\n",
    "- List popular programming languages for Data Science.\n",
    "- Introduce common libraries used in Data Science.\n",
    "- Provide examples of evaluating arithmetic expressions in Python.\n",
    "- Demonstrate conversion of minutes to hours using Python.\n",
    "- Highlight key takeaways from the Data Science course."
   ]
  }
 ],
 "metadata": {
  "kernelspec": {
   "display_name": "Python 3 (ipykernel)",
   "language": "python",
   "name": "python3"
  },
  "language_info": {
   "codemirror_mode": {
    "name": "ipython",
    "version": 3
   },
   "file_extension": ".py",
   "mimetype": "text/x-python",
   "name": "python",
   "nbconvert_exporter": "python",
   "pygments_lexer": "ipython3",
   "version": "3.11.3"
  }
 },
 "nbformat": 4,
 "nbformat_minor": 5
}
